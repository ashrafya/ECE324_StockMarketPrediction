{
 "cells": [
  {
   "cell_type": "code",
   "execution_count": 1,
   "metadata": {},
   "outputs": [],
   "source": [
    "import torch\n",
    "import torch.nn as nn\n",
    "from torch.autograd import Variable\n",
    "import pandas as pd\n",
    "import numpy as np\n",
    "from sklearn.preprocessing import MinMaxScaler"
   ]
  },
  {
   "cell_type": "code",
   "execution_count": 2,
   "metadata": {},
   "outputs": [],
   "source": [
    "df = pd.read_csv('S&P500.csv', sep=\";\", index_col=\"Date\")"
   ]
  },
  {
   "cell_type": "code",
   "execution_count": 3,
   "metadata": {},
   "outputs": [],
   "source": [
    "scaler = MinMaxScaler(feature_range=(-1,1))\n",
    "df['Closing Price'] = scaler.fit_transform(df['Closing Price'].values.reshape(-1,1))\n",
    "data_raw = df['Closing Price'].values"
   ]
  },
  {
   "cell_type": "code",
   "execution_count": 4,
   "metadata": {},
   "outputs": [],
   "source": [
    "data = []\n",
    "window_size = 70\n",
    "train_ratio = 0.8\n",
    "\n",
    "\n",
    "for i in range(len(data_raw) - window_size):\n",
    "    data.append(data_raw[i : i + window_size])\n",
    "\n",
    "data = np.array(data)\n",
    "data = data.reshape((data.shape[0], data.shape[1], 1))\n",
    "train_size = int(train_ratio * data.shape[0])\n",
    "x_train = torch.from_numpy(data[:train_size, :-1, :]).type(torch.Tensor)\n",
    "y_train = torch.from_numpy(data[:train_size, -1, :]).type(torch.Tensor)\n",
    "\n",
    "x_test = torch.from_numpy(data[train_size:, :-1, :]).type(torch.Tensor)\n",
    "y_test = torch.from_numpy(data[train_size:, -1, :]).type(torch.Tensor)"
   ]
  },
  {
   "cell_type": "code",
   "execution_count": 5,
   "metadata": {},
   "outputs": [],
   "source": [
    "class LSTM(nn.Module):\n",
    "    def __init__(self, input_dim, hidden_dim, num_layers, output_dim):\n",
    "        super(LSTM, self).__init__()\n",
    "        self.hidden_dim = hidden_dim\n",
    "        self.num_layers = num_layers\n",
    "        self.lstm = nn.LSTM(input_dim, hidden_dim, num_layers, batch_first=True)\n",
    "        self.fc = nn.Linear(hidden_dim, output_dim)\n",
    "\n",
    "    def forward(self, x):\n",
    "        h0 = torch.zeros(self.num_layers, x.size(0), self.hidden_dim).requires_grad_()\n",
    "        c0 = torch.zeros(self.num_layers, x.size(0), self.hidden_dim).requires_grad_()\n",
    "        out, (hn, cn) = self.lstm(x, (h0.detach(), c0.detach()))\n",
    "        out = self.fc(out[:, -1, :])\n",
    "\n",
    "        return out\n",
    "\n",
    "\n",
    "model = LSTM(input_dim=1, hidden_dim=40, num_layers=2, output_dim=1)\n",
    "loss_fn = nn.MSELoss()\n",
    "optimizer = torch.optim.Adam(model.parameters(), lr=0.01)"
   ]
  },
  {
   "cell_type": "code",
   "execution_count": 6,
   "metadata": {},
   "outputs": [
    {
     "name": "stdout",
     "output_type": "stream",
     "text": [
      "Epoch 10\n",
      "Train MSE: 0.08265756815671921\n",
      "Test MSE: 0.13619102537631989\n",
      "\n"
     ]
    }
   ],
   "source": [
    "numEpochs = 80\n",
    "history = np.zeros(numEpochs)\n",
    "for t in range(numEpochs):\n",
    "    y_train_pred = model(x_train)\n",
    "    loss = loss_fn(y_train_pred, y_train)\n",
    "    history[t] = loss.item()\n",
    "    optimizer.zero_grad()\n",
    "    loss.backward()\n",
    "    optimizer.step()\n",
    "    if t % 10 == 0 and t != 0:\n",
    "        print(\"Epoch\", t)\n",
    "        print(\"Train MSE:\", history[t])\n",
    "        y_test_pred = model(x_test)\n",
    "        loss = loss_fn(y_test_pred, y_test)\n",
    "        print(\"Test MSE:\", loss.item())\n",
    "        print()\n",
    "    \n",
    "\n",
    "\n"
   ]
  },
  {
   "cell_type": "code",
   "execution_count": null,
   "metadata": {},
   "outputs": [],
   "source": [
    "import matplotlib.pyplot as plt\n",
    "plt.style.use('ggplot')\n",
    "plt.plot(history, label=\"Training loss\")\n",
    "plt.legend()\n",
    "plt.title('loss')\n",
    "plt.show()"
   ]
  },
  {
   "cell_type": "code",
   "execution_count": null,
   "metadata": {},
   "outputs": [],
   "source": [
    "y_test_pred_graph = scaler.inverse_transform(y_test_pred.detach().numpy())\n",
    "y_test_graph = scaler.inverse_transform(y_test.detach().numpy())\n",
    "\n",
    "plt.plot(y_test_pred_graph, label='prediction')\n",
    "plt.plot(y_test_graph, label='actual')\n",
    "plt.title(\"prediction\")\n",
    "plt.legend()\n",
    "plt.show()"
   ]
  }
 ],
 "metadata": {
  "interpreter": {
   "hash": "916dbcbb3f70747c44a77c7bcd40155683ae19c65e1c03b4aa3499c5328201f1"
  },
  "kernelspec": {
   "display_name": "Python 3.8.10 64-bit",
   "language": "python",
   "name": "python3"
  },
  "language_info": {
   "codemirror_mode": {
    "name": "ipython",
    "version": 3
   },
   "file_extension": ".py",
   "mimetype": "text/x-python",
   "name": "python",
   "nbconvert_exporter": "python",
   "pygments_lexer": "ipython3",
   "version": "3.8.10"
  },
  "orig_nbformat": 4
 },
 "nbformat": 4,
 "nbformat_minor": 2
}
