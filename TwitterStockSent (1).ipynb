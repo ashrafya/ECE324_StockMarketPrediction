{
  "nbformat": 4,
  "nbformat_minor": 0,
  "metadata": {
    "colab": {
      "name": "TwitterStockSent.ipynb",
      "provenance": []
    },
    "kernelspec": {
      "name": "python3",
      "display_name": "Python 3"
    },
    "language_info": {
      "name": "python"
    }
  },
  "cells": [
    {
      "cell_type": "code",
      "execution_count": null,
      "metadata": {
        "colab": {
          "base_uri": "https://localhost:8080/"
        },
        "id": "y5Nn_MzcHc1O",
        "outputId": "d0331310-df1e-4bca-924a-37c870960b3f"
      },
      "outputs": [
        {
          "output_type": "stream",
          "name": "stdout",
          "text": [
            "\u001b[33m  DEPRECATION: A future pip version will change local packages to be built in-place without first copying to a temporary directory. We recommend you use --use-feature=in-tree-build to test your packages with this new behavior before it becomes the default.\n",
            "   pip 21.3 will remove support for this functionality. You can find discussion regarding this at https://github.com/pypa/pip/issues/7555.\u001b[0m\n",
            "\u001b[K     |████████████████████████████████| 1.3 MB 6.6 MB/s \n",
            "\u001b[K     |████████████████████████████████| 263 kB 27.0 MB/s \n",
            "\u001b[K     |████████████████████████████████| 373 kB 18.0 MB/s \n",
            "\u001b[K     |████████████████████████████████| 94 kB 1.8 MB/s \n",
            "\u001b[K     |████████████████████████████████| 271 kB 42.2 MB/s \n",
            "\u001b[K     |████████████████████████████████| 291 kB 46.7 MB/s \n",
            "\u001b[K     |████████████████████████████████| 58 kB 5.0 MB/s \n",
            "\u001b[K     |████████████████████████████████| 138 kB 42.6 MB/s \n",
            "\u001b[K     |████████████████████████████████| 63 kB 1.7 MB/s \n",
            "\u001b[?25h  Building wheel for twint (setup.py) ... \u001b[?25l\u001b[?25hdone\n",
            "  Building wheel for fake-useragent (setup.py) ... \u001b[?25l\u001b[?25hdone\n",
            "  Building wheel for googletransx (setup.py) ... \u001b[?25l\u001b[?25hdone\n",
            "\u001b[31mERROR: pip's dependency resolver does not currently take into account all the packages that are installed. This behaviour is the source of the following dependency conflicts.\n",
            "google-colab 1.0.0 requires requests~=2.23.0, but you have requests 2.27.1 which is incompatible.\n",
            "datascience 0.10.6 requires folium==0.2.1, but you have folium 0.8.3 which is incompatible.\u001b[0m\n",
            "\u001b[K     |████████████████████████████████| 125 kB 9.9 MB/s \n",
            "\u001b[?25h"
          ]
        }
      ],
      "source": [
        "#Getting todays Relevant tweets\n",
        "!git clone --depth=1 https://github.com/adamlesniak/twint.git -q\n",
        "!cd /content/twint && pip3 install . -r requirements.txt -q\n",
        "!pip install vadersentiment -q"
      ]
    },
    {
      "cell_type": "code",
      "source": [
        "\n",
        "#Imports\n",
        "import twint\n",
        "import torch\n",
        "import time\n",
        "import datetime\n",
        "import pandas as pd\n",
        "\n",
        "from vaderSentiment.vaderSentiment import SentimentIntensityAnalyzer\n",
        "analyzer = SentimentIntensityAnalyzer()\n",
        "\n",
        "import nest_asyncio\n",
        "nest_asyncio.apply()"
      ],
      "metadata": {
        "id": "5s7EAaJhIKhn"
      },
      "execution_count": null,
      "outputs": []
    },
    {
      "cell_type": "code",
      "source": [
        "#tweeter scraper\n",
        "\n",
        "#change delta days to go back more days\n",
        "def scrapetweets(end_time = datetime.datetime.now(), delta_days = 1, delta = 100, query=\"stock OR Nasdaq\"):\n",
        "  #setting up start and end times\n",
        "  end_time = end_time-datetime.timedelta(days=delta_days)\n",
        "  #till now 100 seconds ago\n",
        "  start_time = end_time-datetime.timedelta(seconds=delta)\n",
        "  #setting up the configuration for twint\n",
        "  c = twint.Config()\n",
        "  c.Lang = \"en\"\n",
        "  c.Store_csv = True\n",
        "  c.Search = query\n",
        "  c.Since = start_time.strftime(\"%Y-%m-%d %H:%M:%S\")\n",
        "  c.Until = end_time.strftime(\"%Y-%m-%d %H:%M:%S\")\n",
        "  #c.Hide_output = True\n",
        "  #setting up where to put output\n",
        "  filepath = str(delta_days) + \"DaysAgoTweets\"+ \".csv\"\n",
        "  c.Output = filepath\n",
        "  #getting the tweets\n",
        "  twint.run.Search(c)\n",
        "  #save them in new by reading the file\n",
        "  new = pd.read_csv(filepath)\n",
        "  return new\n",
        "\n",
        "\n",
        "#function to get sentiment\n",
        "def get_sentiment(df):\n",
        "  #getting the positive ones  applying the analyzer on the tweet and getting the three values\n",
        "  df[\"pos\"] = df.apply(lambda row: analyzer.polarity_scores(row[\"tweet\"])[\"pos\"], axis=1)\n",
        "  df[\"compound\"] = df.apply(lambda row: analyzer.polarity_scores(row[\"tweet\"])[\"compound\"], axis=1)\n",
        "  df[\"neg\"] = df.apply(lambda row: analyzer.polarity_scores(row[\"tweet\"])[\"neg\"], axis=1)\n",
        "  sentval = df[\"compound\"].mean()\n",
        "  # if we need df[\"pos\"].mean(), df[\"compound\"].mean(),df[\"neg\"].mean()\n",
        "  print(df[\"pos\"].mean())\n",
        "  print(df[\"compound\"].mean())\n",
        "  print(df[\"neg\"].mean())\n",
        "  return sentval\n"
      ],
      "metadata": {
        "id": "PgoJc1JTIdKN"
      },
      "execution_count": null,
      "outputs": []
    },
    {
      "cell_type": "code",
      "source": [
        "sentiment = get_sentiment(scrapetweets(delta_days = 1))\n",
        "\n",
        "'''\n",
        "so compound value per tweet \n",
        "is between -1 to 1 the mean value is our overall sentiment score\n",
        "so the overall sentiment can be between -100 to 100\n",
        "'''\n",
        "\n",
        "OverallSentiment = sentiment * 100\n",
        "OverallSentiment = \"{:.2f}\".format(OverallSentiment)\n",
        "print(\"The Sentiment Score for today was\",OverallSentiment)"
      ],
      "metadata": {
        "id": "wt3lGCcLLduy"
      },
      "execution_count": null,
      "outputs": []
    }
  ]
}